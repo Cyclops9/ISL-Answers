{
 "cells": [
  {
   "cell_type": "markdown",
   "metadata": {},
   "source": [
    "5.4 Exercises\n",
    "Conceptual\n",
    "1. Using basic statistical properties of the variance, as well as singlevariable calculus, derive (5.6). In other words, prove that α given by\n",
    "(5.6) does indeed minimize Var(αX + (1 − α)Y )."
   ]
  },
  {
   "cell_type": "markdown",
   "metadata": {},
   "source": [
    "<img src=\"images/ch05_1.jpg\" alt=\"equation\" width=\"600\">"
   ]
  },
  {
   "cell_type": "markdown",
   "metadata": {},
   "source": [
    "2. We will now derive the probability that a given observation is part\n",
    "of a bootstrap sample. Suppose that we obtain a bootstrap sample\n",
    "from a set of n observations.\n",
    "(a) What is the probability that the first bootstrap observation is\n",
    "not the jth observation from the original sample? Justify your\n",
    "answer.\n",
    "\n",
    "- (n-1) /n, holding out jth observation we have n-1 observation to choose."
   ]
  },
  {
   "cell_type": "markdown",
   "metadata": {},
   "source": [
    "(b) What is the probability that the second bootstrap observation\n",
    "is not the jth observation from the original sample?\n",
    "\n",
    "- (n-1) / n, because again we can choose the same observations when we allow replacement."
   ]
  },
  {
   "cell_type": "markdown",
   "metadata": {},
   "source": [
    "(c) Argue that the probability that the jth observation is not in the\n",
    "bootstrap sample is (1 − 1/n)^n.\n",
    "\n",
    "- Probability that jth observation not first observation in bootstrap sample is (n-1)/n, not second observation is (n-1)/n. (n-1)/n * (n-1)/n * .... (n-1)/n (n times). ((n-1)/n)^n"
   ]
  },
  {
   "cell_type": "markdown",
   "metadata": {},
   "source": [
    "(d) When n = 5, what is the probability that the jth observation is\n",
    "in the bootstrap sample?\n",
    "\n",
    "- 67.2%"
   ]
  },
  {
   "cell_type": "code",
   "execution_count": 1,
   "metadata": {},
   "outputs": [
    {
     "data": {
      "text/plain": [
       "0.6723199999999999"
      ]
     },
     "execution_count": 1,
     "metadata": {},
     "output_type": "execute_result"
    }
   ],
   "source": [
    "n = 5\n",
    "prob = 1 - ((n-1) / n)**n\n",
    "prob "
   ]
  },
  {
   "cell_type": "markdown",
   "metadata": {},
   "source": [
    "(e) When n = 100, what is the probability that the jth observation\n",
    "is in the bootstrap sample?\n",
    "\n",
    "- 63.4%"
   ]
  },
  {
   "cell_type": "code",
   "execution_count": 2,
   "metadata": {},
   "outputs": [
    {
     "data": {
      "text/plain": [
       "0.6339676587267709"
      ]
     },
     "execution_count": 2,
     "metadata": {},
     "output_type": "execute_result"
    }
   ],
   "source": [
    "n = 100\n",
    "prob = 1 - ((n-1) / n)**n\n",
    "prob"
   ]
  },
  {
   "cell_type": "markdown",
   "metadata": {},
   "source": [
    "(f) When n = 10, 000, what is the probability that the jth observation is in the bootstrap sample?\n",
    "\n",
    "- 63.2%"
   ]
  },
  {
   "cell_type": "code",
   "execution_count": 3,
   "metadata": {},
   "outputs": [
    {
     "data": {
      "text/plain": [
       "0.6321389535670295"
      ]
     },
     "execution_count": 3,
     "metadata": {},
     "output_type": "execute_result"
    }
   ],
   "source": [
    "n = 10000\n",
    "prob = 1 - ((n-1) / n)**n\n",
    "prob"
   ]
  },
  {
   "cell_type": "markdown",
   "metadata": {},
   "source": [
    "(g) Create a plot that displays, for each integer value of n from 1\n",
    "to 100, 000, the probability that the jth observation is in the\n",
    "bootstrap sample. Comment on what you observe."
   ]
  },
  {
   "cell_type": "code",
   "execution_count": 8,
   "metadata": {},
   "outputs": [
    {
     "data": {
      "text/plain": [
       "[<matplotlib.lines.Line2D at 0x19b1be27990>]"
      ]
     },
     "execution_count": 8,
     "metadata": {},
     "output_type": "execute_result"
    },
    {
     "data": {
      "image/png": "[encoded data removed]",
      "text/plain": [
       "<Figure size 640x480 with 1 Axes>"
      ]
     },
     "metadata": {},
     "output_type": "display_data"
    }
   ],
   "source": [
    "import matplotlib.pyplot as plt\n",
    "import numpy as np\n",
    "x = np.arange(1,10000)\n",
    "y = 1 - ((x-1) / x)**x\n",
    "plt.plot(x,y)\n"
   ]
  },
  {
   "cell_type": "markdown",
   "metadata": {},
   "source": [
    "(h) We will now investigate numerically the probability that a bootstrap sample of size n = 100 contains the jth observation. Here\n",
    "j = 4. We first create an array store with values that will subsequently be overwritten using the function np.empty(). We then repeatedly create bootstrap samples, and each time we record\n",
    "whether or not the fifth observation is contained in the bootstrap\n",
    "sample. Comment on the results obtained.\n",
    "\n",
    "- It can be seen that probability that we calculated is similar to we simulated. "
   ]
  },
  {
   "cell_type": "code",
   "execution_count": 25,
   "metadata": {},
   "outputs": [
    {
     "data": {
      "text/plain": [
       "0.6362"
      ]
     },
     "execution_count": 25,
     "metadata": {},
     "output_type": "execute_result"
    }
   ],
   "source": [
    "rng = np.random.default_rng(10)\n",
    "store = np.empty(10000)\n",
    "for i in range(10000):\n",
    "    store[i] = np.sum(rng.choice(100,size=100, replace=True) == 4) > 0\n",
    "np.mean(store)"
   ]
  },
  {
   "cell_type": "markdown",
   "metadata": {},
   "source": [
    "3. We now review k-fold cross-validation.\n",
    "(a) Explain how k-fold cross-validation is implemented.\n",
    "\n",
    "- K-fold cv is implemented by dividing the sample set into equal subsets or folds, then using each set to validate the model while using other sets as training sets. "
   ]
  },
  {
   "cell_type": "markdown",
   "metadata": {},
   "source": [
    "(b) What are the advantages and disadvantages of k-fold crossvalidation relative to:\n",
    "i. The validation set approach?\n",
    "ii. LOOCV?\n",
    "\n",
    "- i: k-fold cv involves using every observation as training, and validation set, whereas the validation set approach involves selecting a partial set to train and validate. Therefore validition set approach can introduce more bias compared to k-fold cv. K-fold cv is more computationally expensive.\n",
    "\n",
    "- ii: LOOCV have higher variance, whereas k-fold cv has lower variance, and also LOOCV is computationally expensive compared to k-fold cv. "
   ]
  },
  {
   "cell_type": "markdown",
   "metadata": {},
   "source": [
    "4. Suppose that we use some statistical learning method to make a prediction for the response Y for a particular value of the predictor X.\n",
    "Carefully describe how we might estimate the standard deviation of\n",
    "our prediction.\n",
    "\n",
    "- We can use bootstrap method which shows us the uncertainty between estimator X and response Y. Also there is noise which is coming from residuals of our model, which should be added to standart deviation of the model predictions which is coming from boostrap method."
   ]
  }
 ],
 "metadata": {
  "kernelspec": {
   "display_name": "Python 3",
   "language": "python",
   "name": "python3"
  },
  "language_info": {
   "codemirror_mode": {
    "name": "ipython",
    "version": 3
   },
   "file_extension": ".py",
   "mimetype": "text/x-python",
   "name": "python",
   "nbconvert_exporter": "python",
   "pygments_lexer": "ipython3",
   "version": "3.11.5"
  }
 },
 "nbformat": 4,
 "nbformat_minor": 2
}

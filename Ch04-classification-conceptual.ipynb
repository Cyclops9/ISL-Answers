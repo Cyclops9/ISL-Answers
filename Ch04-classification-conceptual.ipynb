{
 "cells": [
  {
   "cell_type": "markdown",
   "metadata": {},
   "source": [
    "4.8 Exercises\n",
    "Conceptual\n",
    "1. Using a little bit of algebra, prove that (4.2) is equivalent to (4.3). In\n",
    "other words, the logistic function representation and logit representation for the logistic regression model are equivalent."
   ]
  },
  {
   "cell_type": "markdown",
   "metadata": {},
   "source": [
    "<img src=\"ch04_1.jpg\" alt=\"equation\" width=\"300\">"
   ]
  },
  {
   "cell_type": "markdown",
   "metadata": {},
   "source": [
    "2. It was stated in the text that classifying an observation to the class\n",
    "for which (4.17) is largest is equivalent to classifying an observation\n",
    "to the class for which (4.18) is largest. Prove that this is the case. In\n",
    "other words, under the assumption that the observations in the kth\n",
    "class are drawn from a N(µk, σ2) distribution, the Bayes classifier\n",
    "assigns an observation to the class for which the discriminant function\n",
    "is maximized."
   ]
  },
  {
   "cell_type": "markdown",
   "metadata": {},
   "source": [
    "<img src=\"ch04_2.jpg\" alt=\"equation\" width=\"900\">"
   ]
  },
  {
   "cell_type": "markdown",
   "metadata": {},
   "source": [
    "This problem relates to the QDA model, in which the observations\n",
    "within each class are drawn from a normal distribution with a classspecific mean vector and a class specific covariance matrix. We consider the simple case where p = 1; i.e. there is only one feature.\n",
    "Suppose that we have K classes, and that if an observation belongs\n",
    "to the kth class then X comes from a one-dimensional normal distribution, X ∼ N(µk, σk2). Recall that the density function for the\n",
    "one-dimensional normal distribution is given in (4.16). Prove that in\n",
    "this case, the Bayes classifier is not linear. Argue that it is in fact\n",
    "quadratic.\n",
    "Hint: For this problem, you should follow the arguments laid out in\n",
    "Section 4.4.1, but without making the assumption that σ12 = · · · = σK2 ."
   ]
  },
  {
   "cell_type": "markdown",
   "metadata": {},
   "source": [
    "- At the exercises 2 solution, we ignored the division part because all variances for all classes were equal, but if variances are not equal, then we will have to use k'th classes variance, therefore now the division part will also vary with k, therefore we can not ignore. From there we had a term x^2 / 2 var^2, which will now vary with k also, therefore Sk(x) will be quadratic."
   ]
  },
  {
   "cell_type": "markdown",
   "metadata": {},
   "source": [
    "4. When the number of features p is large, there tends to be a deterioration in the performance of KNN and other local approaches that\n",
    "perform prediction using only observations that are near the test observation for which a prediction must be made. This phenomenon is\n",
    "known as the curse of dimensionality, and it ties into the fact that non-parametric approaches often perform poorly when p is large. We will now investigate this curse.\n",
    "\n",
    "(a) Suppose that we have a set of observations, each with measurements on p = 1 feature, X. We assume that X is uniformly\n",
    "(evenly) distributed on [0, 1]. Associated with each observation\n",
    "is a response value. Suppose that we wish to predict a test observation’s response using only observations that are within 10 % of\n",
    "the range of X closest to that test observation. For instance, in\n",
    "order to predict the response for a test observation with X = 0.6,\n",
    "we will use observations in the range [0.55, 0.65]. On average,\n",
    "what fraction of the available observations will we use to make\n",
    "the prediction?\n",
    "\n",
    "- n * 10 / 100 = n / 10, n -> number of observations"
   ]
  },
  {
   "cell_type": "markdown",
   "metadata": {},
   "source": [
    "(b) Now suppose that we have a set of observations, each with\n",
    "measurements on p = 2 features, X1 and X2. We assume that\n",
    "(X1, X2) are uniformly distributed on [0, 1] × [0, 1]. We wish to\n",
    "predict a test observation’s response using only observations that\n",
    "are within 10 % of the range of X1 and within 10 % of the range\n",
    "of X2 closest to that test observation. For instance, in order to\n",
    "predict the response for a test observation with X1 = 0.6 and\n",
    "X2 = 0.35, we will use observations in the range [0.55, 0.65] for\n",
    "X1 and in the range [0.3, 0.4] for X2. On average, what fraction\n",
    "of the available observations will we use to make the prediction?\n",
    "\n",
    "- n * (10 / 100) * (10 / 100) = n / 100"
   ]
  },
  {
   "cell_type": "markdown",
   "metadata": {},
   "source": [
    "(c) Now suppose that we have a set of observations on p = 100 features. Again the observations are uniformly distributed on each\n",
    "feature, and again each feature ranges in value from 0 to 1. We\n",
    "wish to predict a test observation’s response using observations\n",
    "within the 10 % of each feature’s range that is closest to that test\n",
    "observation. What fraction of the available observations will we\n",
    "use to make the prediction?\n",
    "\n",
    "- n / 10^100"
   ]
  },
  {
   "cell_type": "markdown",
   "metadata": {},
   "source": [
    "(d) Using your answers to parts (a)–(c), argue that a drawback of\n",
    "KNN when p is large is that there are very few training observations “near” any given test observation.\n",
    "\n",
    "- As the predictor number gets large number of observation to look at decreases, as can be seen from (a),(b) and (c). "
   ]
  },
  {
   "cell_type": "markdown",
   "metadata": {},
   "source": [
    "(e) Now suppose that we wish to make a prediction for a test observation by creating a p-dimensional hypercube centered around\n",
    "the test observation that contains, on average, 10 % of the training observations. For p = 1, 2, and 100, what is the length of each\n",
    "side of the hypercube? Comment on your answer.\n",
    "\n",
    "Note: A hypercube is a generalization of a cube to an arbitrary\n",
    "number of dimensions. When p = 1, a hypercube is simply a line\n",
    "segment, when p = 2 it is a square, and when p = 100 it is a\n",
    "100-dimensional cube.\n",
    "\n",
    "- Length of each side of hypercube increases as number of predictors increases therefore distance to every predictor increases, which is not conventional for KNN, since it looks for the distance to each predictor."
   ]
  },
  {
   "cell_type": "markdown",
   "metadata": {},
   "source": [
    "<img src=\"images/ch04_4_e.jpg\" alt=\"equation\" width=\"900\">"
   ]
  },
  {
   "cell_type": "markdown",
   "metadata": {},
   "source": [
    "5. We now examine the differences between LDA and QDA.\n",
    "(a) If the Bayes decision boundary is linear, do we expect LDA or\n",
    "QDA to perform better on the training set? On the test set?\n",
    "\n",
    "- We expect QDA perform better on training set because higher flexibility can fit the noise better in training data, but in the test data LDA expected to perform better."
   ]
  },
  {
   "cell_type": "markdown",
   "metadata": {},
   "source": [
    "(b) If the Bayes decision boundary is non-linear, do we expect LDA\n",
    "or QDA to perform better on the training set? On the test set?\n",
    "\n",
    "- We expect QDA perform better on training set because of high flexibility, and again on the test set because decision boundary is non-linear QDA will perform better."
   ]
  },
  {
   "cell_type": "markdown",
   "metadata": {},
   "source": [
    "(c) In general, as the sample size n increases, do we expect the test\n",
    "prediction accuracy of QDA relative to LDA to improve, decline,\n",
    "or be unchanged? Why?\n",
    "\n",
    "- Test prediction of QDA compared to LDA will improve, because high flexibility will cause better fitting on training set, and since we have large enough sample size, QDA will fit better than LDA. "
   ]
  },
  {
   "cell_type": "markdown",
   "metadata": {},
   "source": [
    "(d) True or False: Even if the Bayes decision boundary for a given\n",
    "problem is linear, we will probably achieve a superior test error rate using QDA rather than LDA because QDA is flexible\n",
    "enough to model a linear decision boundary. Justify your answer.\n",
    "\n",
    "- False, because QDA will overfit to training data which will cause higher test error rate than LDA."
   ]
  },
  {
   "cell_type": "markdown",
   "metadata": {},
   "source": [
    "6. Suppose we collect data for a group of students in a statistics class\n",
    "with variables X1 = hours studied, X2 = undergrad GPA, and Y =\n",
    "receive an A. We fit a logistic regression and produce estimated\n",
    "coefficient, βˆ0 = −6, βˆ1 = 0.05, βˆ2 = 1.\n",
    "\n",
    "(a) Estimate the probability that a student who studies for 40 h and\n",
    "has an undergrad GPA of 3.5 gets an A in the class.\n",
    "\n",
    "- 37.7 %\n"
   ]
  },
  {
   "cell_type": "code",
   "execution_count": 6,
   "metadata": {},
   "outputs": [
    {
     "data": {
      "text/plain": [
       "0.37754066879814546"
      ]
     },
     "execution_count": 6,
     "metadata": {},
     "output_type": "execute_result"
    }
   ],
   "source": [
    "from math import exp, log\n",
    "prob = exp(-6 + 0.05 * 40 + 1 * 3.5) / (1+exp(-6 + 0.05 * 40 + 1 * 3.5)) \n",
    "prob"
   ]
  },
  {
   "cell_type": "markdown",
   "metadata": {},
   "source": [
    "(b) How many hours would the student in part (a) need to study to\n",
    "have a 50 % chance of getting an A in the class\n",
    "\n",
    "-50"
   ]
  },
  {
   "cell_type": "code",
   "execution_count": 10,
   "metadata": {},
   "outputs": [
    {
     "data": {
      "text/plain": [
       "50.0"
      ]
     },
     "execution_count": 10,
     "metadata": {},
     "output_type": "execute_result"
    }
   ],
   "source": [
    "x = (log(0.5 / (1 - 0.5)) - 1 * 3.5 + 6) / 0.05 \n",
    "x"
   ]
  },
  {
   "cell_type": "markdown",
   "metadata": {},
   "source": [
    "7. Suppose that we wish to predict whether a given stock will issue a\n",
    "dividend this year (“Yes” or “No”) based on X, last year’s percent\n",
    "profit. We examine a large number of companies and discover that the\n",
    "mean value of X for companies that issued a dividend was X¯ = 10,\n",
    "while the mean for those that didn’t was X¯ = 0. In addition, the\n",
    "variance of X for these two sets of companies was σˆ2 = 36. Finally,\n",
    "80 % of companies issued dividends. Assuming that X follows a normal distribution, predict the probability that a company will issue\n",
    "a dividend this year given that its percentage profit was X = 4 last\n",
    "year.\n",
    "\n",
    "Hint: Recall that the density function for a normal random variable\n",
    "is f(x) = √21πσ2 e−(x−µ)2/2σ2. You will need to use Bayes’ theorem\n",
    "\n",
    "- 75.2%"
   ]
  },
  {
   "cell_type": "markdown",
   "metadata": {},
   "source": [
    "![alt text](images/image.png)"
   ]
  },
  {
   "cell_type": "code",
   "execution_count": 21,
   "metadata": {},
   "outputs": [
    {
     "data": {
      "text/plain": [
       "0.7518524532975261"
      ]
     },
     "execution_count": 21,
     "metadata": {},
     "output_type": "execute_result"
    }
   ],
   "source": [
    "from numpy import pi\n",
    "def fk(x,prior,mean):\n",
    "    return (1 / (2*pi*36)**0.5) * exp(-1 * ((x-mean)**2) / (2*36))\n",
    "prob = 0.8 * fk(4,0.8,10) / (0.8 * fk(4,0.8,10) + 0.2 * fk(4,0.2,0))\n",
    "prob"
   ]
  },
  {
   "cell_type": "markdown",
   "metadata": {},
   "source": [
    "8. Suppose that we take a data set, divide it into equally-sized training\n",
    "and test sets, and then try out two different classification procedures.\n",
    "First we use logistic regression and get an error rate of 20 % on the\n",
    "training data and 30 % on the test data. Next we use 1-nearest neighbors (i.e. K = 1) and get an average error rate (averaged over both\n",
    "test and training data sets) of 18 %. Based on these results, which\n",
    "method should we prefer to use for classification of new observations?\n",
    "Why?\n",
    "\n",
    "- If we used K = 1, training error rate will be 0%, therefore test error rate will be 36%, which is worse than logistic regression on test set. Therefore logistic regression will be better choice here for new observations."
   ]
  },
  {
   "cell_type": "markdown",
   "metadata": {},
   "source": [
    "9. This problem has to do with odds.\n",
    "\n",
    "(a) On average, what fraction of people with an odds of 0.37 of\n",
    "defaulting on their credit card payment will in fact default?\n",
    "\n",
    "- 27%"
   ]
  },
  {
   "cell_type": "code",
   "execution_count": 22,
   "metadata": {},
   "outputs": [
    {
     "data": {
      "text/plain": [
       "0.27007299270072993"
      ]
     },
     "execution_count": 22,
     "metadata": {},
     "output_type": "execute_result"
    }
   ],
   "source": [
    "prob_defaulting = 0.37 / (1+0.37)\n",
    "prob_defaulting"
   ]
  },
  {
   "cell_type": "markdown",
   "metadata": {},
   "source": [
    "(b) Suppose that an individual has a 16 % chance of defaulting on\n",
    "her credit card payment. What are the odds that she will default?\n",
    "\n",
    "- 19%"
   ]
  },
  {
   "cell_type": "code",
   "execution_count": 23,
   "metadata": {},
   "outputs": [
    {
     "data": {
      "text/plain": [
       "0.1904761904761905"
      ]
     },
     "execution_count": 23,
     "metadata": {},
     "output_type": "execute_result"
    }
   ],
   "source": [
    "odds = 0.16 / (1 - 0.16)\n",
    "odds"
   ]
  },
  {
   "cell_type": "markdown",
   "metadata": {},
   "source": [
    "10. Equation 4.32 derived an expression for log ( Pr(Y =k|X=x)\n",
    "Pr(Y =K|X=x)) in the\n",
    "setting where p > 1, so that the mean for the kth class, µk, is a pdimensional vector, and the shared covariance Σ is a p × p matrix.\n",
    "However, in the setting with p = 1, (4.32) takes a simpler form, since\n",
    "the means µ1, . . . , µK and the variance σ2 are scalars. In this simpler\n",
    "setting, repeat the calculation in (4.32), and provide expressions for\n",
    "ak and bkj in terms of πk, πK, µk, µK, and σ2."
   ]
  },
  {
   "cell_type": "markdown",
   "metadata": {},
   "source": [
    "<img src=\"images/ch04_10_e.jpg\" alt=\"equation\" width=\"400\">"
   ]
  },
  {
   "cell_type": "markdown",
   "metadata": {},
   "source": [
    "11. Work out the detailed forms of ak, bkj, and bkjl in (4.33). Your answer\n",
    "should involve πk, πK, µk, µK, Σk, and ΣK."
   ]
  },
  {
   "cell_type": "markdown",
   "metadata": {},
   "source": [
    "<img src=\"images/ch04_11.jpg\" alt=\"equation\" width=\"600\">"
   ]
  },
  {
   "cell_type": "markdown",
   "metadata": {},
   "source": [
    "12. Suppose that you wish to classify an observation X ∈ R into apples\n",
    "and oranges. You fit a logistic regression model and find that\n",
    "Pr( c Y = orange|X = x) = exp(βˆ0 + βˆ1x)\n",
    "1 + exp(βˆ0 + βˆ1x).\n",
    "Your friend fits a logistic regression model to the same data using the\n",
    "softmax formulation in (4.13), and finds that\n",
    "Pr( c Y = orange|X = x) =\n",
    "exp(ˆ αorange0 + ˆ αorange1x)\n",
    "exp(ˆ αorange0 + ˆ αorange1x) + exp(ˆ αapple0 + ˆ αapple1x)"
   ]
  },
  {
   "cell_type": "markdown",
   "metadata": {},
   "source": [
    "(a) What is the log odds of orange versus apple in your model?\n"
   ]
  },
  {
   "cell_type": "markdown",
   "metadata": {},
   "source": [
    "<img src=\"images/ch04_12.jpg\" alt=\"equation\" width=\"600\">"
   ]
  },
  {
   "cell_type": "markdown",
   "metadata": {},
   "source": [
    "(b) What is the log odds of orange versus apple in your friend’s\n",
    "model?"
   ]
  },
  {
   "cell_type": "markdown",
   "metadata": {},
   "source": [
    "<img src=\"images/ch04_12_b.jpg\" alt=\"equation\" width=\"600\">"
   ]
  },
  {
   "cell_type": "markdown",
   "metadata": {},
   "source": [
    "(c) Suppose that in your model, βˆ0 = 2 and βˆ1 = −1. What are\n",
    "the coefficient estimates in your friend’s model? Be as specific\n",
    "as possible.\n",
    "\n",
    "(d) Now suppose that you and your friend fit the same two models\n",
    "on a different data set. This time, your friend gets the coefficient\n",
    "estimates αˆ\n",
    "orange0 = 1.2, αˆorange1 = −2, αˆorange0 = 3, αˆorange1 =\n",
    "0.6. What are the coefficient estimates in your model?"
   ]
  },
  {
   "cell_type": "markdown",
   "metadata": {},
   "source": [
    "<img src=\"images/ch04_12_cd.jpg\" alt=\"equation\" width=\"600\">"
   ]
  },
  {
   "cell_type": "markdown",
   "metadata": {},
   "source": [
    "(e) Finally, suppose you apply both models from (d) to a data set\n",
    "with 2,000 test observations. What fraction of the time do you\n",
    "expect the predicted class labels from your model to agree with\n",
    "those from your friend’s model? Explain your answer."
   ]
  },
  {
   "cell_type": "markdown",
   "metadata": {},
   "source": [
    "- Since in d, we found coefficients of my model from my friends model, we expect them to give same predictions for every class label. Therefore 100%."
   ]
  }
 ],
 "metadata": {
  "kernelspec": {
   "display_name": "Python 3",
   "language": "python",
   "name": "python3"
  },
  "language_info": {
   "codemirror_mode": {
    "name": "ipython",
    "version": 3
   },
   "file_extension": ".py",
   "mimetype": "text/x-python",
   "name": "python",
   "nbconvert_exporter": "python",
   "pygments_lexer": "ipython3",
   "version": "3.11.5"
  }
 },
 "nbformat": 4,
 "nbformat_minor": 2
}
